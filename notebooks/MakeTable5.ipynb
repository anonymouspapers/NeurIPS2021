{
 "cells": [
  {
   "cell_type": "markdown",
   "metadata": {},
   "source": [
    "### Make Table 5"
   ]
  },
  {
   "cell_type": "code",
   "execution_count": 160,
   "metadata": {
    "tags": [
     "hide-cell"
    ]
   },
   "outputs": [
    {
     "name": "stdout",
     "output_type": "stream",
     "text": [
      "The watermark extension is already loaded. To reload it, use:\n",
      "  %reload_ext watermark\n",
      "2021-03-21T22:55:34-07:00\n",
      "\n",
      "CPython 3.8.5\n",
      "IPython 7.18.1\n",
      "\n",
      "compiler   : Clang 10.0.0 \n",
      "system     : Darwin\n",
      "release    : 17.7.0\n",
      "machine    : x86_64\n",
      "processor  : i386\n",
      "CPU cores  : 12\n",
      "interpreter: 64bit\n"
     ]
    }
   ],
   "source": [
    "import json, re\n",
    "import numpy as np\n",
    "import pandas as pd\n",
    "\n",
    "import import_ipynb\n",
    "import Utils as U\n",
    "\n",
    "import matplotlib\n",
    "import matplotlib.pyplot as plt\n",
    "from pylab import rcParams\n",
    "%matplotlib inline\n",
    "\n",
    "from pylab import rcParams\n",
    "rcParams['figure.figsize'] = 10,5\n",
    "\n",
    "%load_ext watermark\n",
    "%watermark"
   ]
  },
  {
   "cell_type": "code",
   "execution_count": 48,
   "metadata": {},
   "outputs": [],
   "source": [
    "filename = \"W_distance_vs_accs_task1_v4_results.csv\"\n",
    "W_distance_task1_df = pd.read_csv(filename, index_col='model')\n",
    "\n",
    "filename = \"W_distance_vs_accs_task2_v1_results.csv\"\n",
    "W_distance_task2_df = pd.read_csv(filename, index_col='model')"
   ]
  },
  {
   "cell_type": "code",
   "execution_count": 40,
   "metadata": {},
   "outputs": [],
   "source": [
    "filename = \"sharpness_vs_accs_task1_v4_results.csv\"\n",
    "sharpness_task1_df = pd.read_csv(filename, index_col='model')\n",
    "\n",
    "filename = \"sharpness_vs_accs_task2_v1_results.csv\"\n",
    "sharpness_task2_df = pd.read_csv(filename, index_col='model')"
   ]
  },
  {
   "cell_type": "code",
   "execution_count": 41,
   "metadata": {},
   "outputs": [],
   "source": [
    "\n",
    "filename = \"svd10_vs_accs_task1_v4_results.csv\"\n",
    "svd10_task1_df = pd.read_csv(filename, index_col='model')\n",
    "filename = \"svd10_vs_accs_task2_v1_results.csv\"\n",
    "svd10_task2_df = pd.read_csv(filename, index_col='model')\n",
    "\n",
    "filename = \"svd20_vs_accs_task1_v4_results.csv\"\n",
    "svd20_task1_df = pd.read_csv(filename, index_col='model')\n",
    "filename = \"svd20_vs_accs_task2_v1_results.csv\"\n",
    "svd20_task2_df = pd.read_csv(filename, index_col='model')\n"
   ]
  },
  {
   "cell_type": "code",
   "execution_count": 23,
   "metadata": {},
   "outputs": [
    {
     "data": {
      "text/plain": [
       "{'task1_v4': {'0xx': {'RMSE': 0.8708288359776031,\n",
       "   'MAE': 0.7219224682674551,\n",
       "   'R2': 0.5495439266802352,\n",
       "   'Ktau': -0.5480952765236738,\n",
       "   'spman': -0.7566862540261774},\n",
       "  '1xx': {'RMSE': 0.3718801464343123,\n",
       "   'MAE': 0.3144963382108266,\n",
       "   'R2': 0.878087513170729,\n",
       "   'Ktau': -0.4848484848484848,\n",
       "   'spman': -0.7342657342657343},\n",
       "  '2xx': {'RMSE': 0.6566496838137909,\n",
       "   'MAE': 0.5473167617989844,\n",
       "   'R2': 0.6948707390470584,\n",
       "   'Ktau': -0.5151515151515151,\n",
       "   'spman': -0.7202797202797203},\n",
       "  '5xx': {'RMSE': 1.3394854411263808,\n",
       "   'MAE': 1.15749141974925,\n",
       "   'R2': 0.08600741464158601,\n",
       "   'Ktau': -0.10476190476190476,\n",
       "   'spman': -0.11428571428571425},\n",
       "  '6xx': {'RMSE': 1.0383351651934198,\n",
       "   'MAE': 0.8040526789046206,\n",
       "   'R2': 0.6133947266714386,\n",
       "   'Ktau': -0.3725490196078432,\n",
       "   'spman': -0.5335397316821465},\n",
       "  '7xx': {'RMSE': 1.1332239218936329,\n",
       "   'MAE': 0.8456473381146228,\n",
       "   'R2': 0.4493120779312044,\n",
       "   'Ktau': -0.5111111111111111,\n",
       "   'spman': -0.7333333333333332}},\n",
       " 'task2_v1': {'2xx': {'RMSE': 1.1563648064069731,\n",
       "   'MAE': 1.0400423411474118,\n",
       "   'R2': 0.6876685355779508,\n",
       "   'Ktau': -0.7362637362637363,\n",
       "   'spman': -0.8813186813186813},\n",
       "  '6xx': {'RMSE': 0.9982664025097169,\n",
       "   'MAE': 0.7888905274718119,\n",
       "   'R2': 0.36075064910501053,\n",
       "   'Ktau': -0.25490196078431376,\n",
       "   'spman': -0.347781217750258},\n",
       "  '9xx': {'RMSE': 0.9915778931993179,\n",
       "   'MAE': 0.7823788488622236,\n",
       "   'R2': 0.6392635296135725,\n",
       "   'Ktau': -0.8666666666666666,\n",
       "   'spman': -0.942857142857143},\n",
       "  '10xx': {'RMSE': 1.0851998206839417,\n",
       "   'MAE': 0.8775735596924713,\n",
       "   'R2': 0.6512762621832402,\n",
       "   'Ktau': -0.6969696969696969,\n",
       "   'spman': -0.8531468531468532}}}"
      ]
     },
     "execution_count": 23,
     "metadata": {},
     "output_type": "execute_result"
    }
   ],
   "source": [
    "with open('ahat_results.json') as f:\n",
    "     ahat_results = json.load(f)\n",
    "ahat_results"
   ]
  },
  {
   "cell_type": "code",
   "execution_count": 72,
   "metadata": {},
   "outputs": [],
   "source": [
    "ahat_task1_sdf = pd.DataFrame(ahat_results['task1_v4']).transpose()[['R2','Ktau']]\n",
    "ahat_task2_sdf = pd.DataFrame(ahat_results['task2_v1']).transpose()[['R2','Ktau']]"
   ]
  },
  {
   "cell_type": "code",
   "execution_count": 88,
   "metadata": {},
   "outputs": [
    {
     "data": {
      "text/html": [
       "<div>\n",
       "<style scoped>\n",
       "    .dataframe tbody tr th:only-of-type {\n",
       "        vertical-align: middle;\n",
       "    }\n",
       "\n",
       "    .dataframe tbody tr th {\n",
       "        vertical-align: top;\n",
       "    }\n",
       "\n",
       "    .dataframe thead th {\n",
       "        text-align: right;\n",
       "    }\n",
       "</style>\n",
       "<table border=\"1\" class=\"dataframe\">\n",
       "  <thead>\n",
       "    <tr style=\"text-align: right;\">\n",
       "      <th></th>\n",
       "      <th>R2_ahat</th>\n",
       "      <th>Ktau_ahat</th>\n",
       "      <th>R2_dist</th>\n",
       "      <th>Ktau_dist</th>\n",
       "      <th>R2_sharp</th>\n",
       "      <th>Ktau_sharp</th>\n",
       "      <th>R2_svd10</th>\n",
       "      <th>Ktau_svd10</th>\n",
       "    </tr>\n",
       "  </thead>\n",
       "  <tbody>\n",
       "    <tr>\n",
       "      <th>0xx</th>\n",
       "      <td>0.549544</td>\n",
       "      <td>-0.548095</td>\n",
       "      <td>0.470556</td>\n",
       "      <td>0.736843</td>\n",
       "      <td>0.256569</td>\n",
       "      <td>0.722324</td>\n",
       "      <td>0.533515</td>\n",
       "      <td>0.610909</td>\n",
       "    </tr>\n",
       "    <tr>\n",
       "      <th>1xx</th>\n",
       "      <td>0.878088</td>\n",
       "      <td>-0.484848</td>\n",
       "      <td>0.583775</td>\n",
       "      <td>0.848485</td>\n",
       "      <td>0.430305</td>\n",
       "      <td>0.821928</td>\n",
       "      <td>0.752147</td>\n",
       "      <td>0.787879</td>\n",
       "    </tr>\n",
       "    <tr>\n",
       "      <th>2xx</th>\n",
       "      <td>0.694871</td>\n",
       "      <td>-0.515152</td>\n",
       "      <td>0.322467</td>\n",
       "      <td>0.606061</td>\n",
       "      <td>0.300853</td>\n",
       "      <td>0.484848</td>\n",
       "      <td>0.841231</td>\n",
       "      <td>0.757576</td>\n",
       "    </tr>\n",
       "    <tr>\n",
       "      <th>5xx</th>\n",
       "      <td>0.086007</td>\n",
       "      <td>-0.104762</td>\n",
       "      <td>0.595811</td>\n",
       "      <td>0.766667</td>\n",
       "      <td>0.632944</td>\n",
       "      <td>0.761513</td>\n",
       "      <td>0.377664</td>\n",
       "      <td>0.433333</td>\n",
       "    </tr>\n",
       "    <tr>\n",
       "      <th>6xx</th>\n",
       "      <td>0.613395</td>\n",
       "      <td>-0.372549</td>\n",
       "      <td>0.519489</td>\n",
       "      <td>0.726316</td>\n",
       "      <td>0.587851</td>\n",
       "      <td>0.755362</td>\n",
       "      <td>0.404423</td>\n",
       "      <td>0.452632</td>\n",
       "    </tr>\n",
       "    <tr>\n",
       "      <th>7xx</th>\n",
       "      <td>0.449312</td>\n",
       "      <td>-0.511111</td>\n",
       "      <td>0.280244</td>\n",
       "      <td>0.606061</td>\n",
       "      <td>0.544590</td>\n",
       "      <td>0.636364</td>\n",
       "      <td>0.669445</td>\n",
       "      <td>0.666667</td>\n",
       "    </tr>\n",
       "    <tr>\n",
       "      <th>AVG</th>\n",
       "      <td>0.545203</td>\n",
       "      <td>-0.422753</td>\n",
       "      <td>0.462057</td>\n",
       "      <td>0.715072</td>\n",
       "      <td>0.458852</td>\n",
       "      <td>0.697056</td>\n",
       "      <td>0.596404</td>\n",
       "      <td>0.618166</td>\n",
       "    </tr>\n",
       "  </tbody>\n",
       "</table>\n",
       "</div>"
      ],
      "text/plain": [
       "      R2_ahat  Ktau_ahat   R2_dist  Ktau_dist  R2_sharp  Ktau_sharp  R2_svd10  Ktau_svd10\n",
       "0xx  0.549544  -0.548095  0.470556   0.736843  0.256569    0.722324  0.533515    0.610909\n",
       "1xx  0.878088  -0.484848  0.583775   0.848485  0.430305    0.821928  0.752147    0.787879\n",
       "2xx  0.694871  -0.515152  0.322467   0.606061  0.300853    0.484848  0.841231    0.757576\n",
       "5xx  0.086007  -0.104762  0.595811   0.766667  0.632944    0.761513  0.377664    0.433333\n",
       "6xx  0.613395  -0.372549  0.519489   0.726316  0.587851    0.755362  0.404423    0.452632\n",
       "7xx  0.449312  -0.511111  0.280244   0.606061  0.544590    0.636364  0.669445    0.666667\n",
       "AVG  0.545203  -0.422753  0.462057   0.715072  0.458852    0.697056  0.596404    0.618166"
      ]
     },
     "execution_count": 88,
     "metadata": {},
     "output_type": "execute_result"
    }
   ],
   "source": [
    "dist_task1_df = W_distance_task1_df[['R2','Ktau']]\n",
    "sharp_task1_df = sharpness_task1_df[['R2','Ktau']]\n",
    "svd10_task1_df = svd10_task1_df[['R2','Ktau']]\n",
    "\n",
    "\n",
    "task1_df = sharp_task1_df.join(svd10_task1_df,  lsuffix='_sharp', rsuffix='_svd10')\n",
    "task1_df = dist_task1_df.join(task1_df)\n",
    "task1_df = ahat_task1_sdf.join(task1_df, lsuffix='_ahat', rsuffix='_dist')\n",
    "\n",
    "task1_mean = task1_df.describe().loc['mean'].to_frame().rename(columns={'mean':'AVG'}).transpose()\n",
    "task1_df = pd.concat([task1_df,task1_mean])\n",
    "task1_df"
   ]
  },
  {
   "cell_type": "code",
   "execution_count": 161,
   "metadata": {},
   "outputs": [
    {
     "name": "stdout",
     "output_type": "stream",
     "text": [
      "\n",
      "Task1 - 0xx & 0.55 & -0.55 & 0.47 & 0.74 & 0.26 & 0.72 & 0.53 & 0.61 \\\\\n",
      "Task1 - 1xx & 0.88 & -0.48 & 0.58 & 0.85 & 0.43 & 0.82 & 0.75 & 0.79 \\\\\n",
      "Task1 - 2xx & 0.69 & -0.52 & 0.32 & 0.61 & 0.30 & 0.48 & 0.84 & 0.76 \\\\\n",
      "Task1 - 5xx & 0.09 & -0.10 & 0.60 & 0.77 & 0.63 & 0.76 & 0.38 & 0.43 \\\\\n",
      "Task1 - 6xx & 0.61 & -0.37 & 0.52 & 0.73 & 0.59 & 0.76 & 0.40 & 0.45 \\\\\n",
      "Task1 - 7xx & 0.45 & -0.51 & 0.28 & 0.61 & 0.54 & 0.64 & 0.67 & 0.67 \\\\\n",
      "Task1 - AVG & 0.55 & -0.42 & 0.46 & 0.72 & 0.46 & 0.70 & 0.60 & 0.62 \\\\\n"
     ]
    }
   ],
   "source": [
    "task1_str = task1_df.to_latex(header=False, float_format=\"{:0.2f}\".format)\n",
    "task1_str = task1_str.split('\\n',2)[-1].rsplit(\"\\n\", 3)[0]\n",
    "\n",
    "task1_str = re.sub(\"\\n\", \"\\nTask1 - \", task1_str)\n",
    "task1_str = re.sub(\"^\", \"\\nTask1 - \", task1_str)\n",
    "\n",
    "print(task1_str)"
   ]
  },
  {
   "cell_type": "code",
   "execution_count": 159,
   "metadata": {},
   "outputs": [
    {
     "data": {
      "text/html": [
       "<div>\n",
       "<style scoped>\n",
       "    .dataframe tbody tr th:only-of-type {\n",
       "        vertical-align: middle;\n",
       "    }\n",
       "\n",
       "    .dataframe tbody tr th {\n",
       "        vertical-align: top;\n",
       "    }\n",
       "\n",
       "    .dataframe thead th {\n",
       "        text-align: right;\n",
       "    }\n",
       "</style>\n",
       "<table border=\"1\" class=\"dataframe\">\n",
       "  <thead>\n",
       "    <tr style=\"text-align: right;\">\n",
       "      <th></th>\n",
       "      <th>R2_ahat</th>\n",
       "      <th>Ktau_ahat</th>\n",
       "      <th>R2_dist</th>\n",
       "      <th>Ktau_dist</th>\n",
       "      <th>R2_sharp</th>\n",
       "      <th>Ktau_sharp</th>\n",
       "      <th>R2_svd20</th>\n",
       "      <th>Ktau_svd20</th>\n",
       "    </tr>\n",
       "  </thead>\n",
       "  <tbody>\n",
       "    <tr>\n",
       "      <th>2xx</th>\n",
       "      <td>0.687669</td>\n",
       "      <td>-0.736264</td>\n",
       "      <td>0.223328</td>\n",
       "      <td>0.490196</td>\n",
       "      <td>0.338802</td>\n",
       "      <td>0.747545</td>\n",
       "      <td>0.952320</td>\n",
       "      <td>0.830065</td>\n",
       "    </tr>\n",
       "    <tr>\n",
       "      <th>6xx</th>\n",
       "      <td>0.360751</td>\n",
       "      <td>-0.254902</td>\n",
       "      <td>0.207855</td>\n",
       "      <td>0.372549</td>\n",
       "      <td>0.219417</td>\n",
       "      <td>0.393445</td>\n",
       "      <td>0.270542</td>\n",
       "      <td>0.267974</td>\n",
       "    </tr>\n",
       "    <tr>\n",
       "      <th>9xx</th>\n",
       "      <td>0.639264</td>\n",
       "      <td>-0.866667</td>\n",
       "      <td>0.487498</td>\n",
       "      <td>0.600000</td>\n",
       "      <td>0.386782</td>\n",
       "      <td>0.733333</td>\n",
       "      <td>0.714368</td>\n",
       "      <td>0.866667</td>\n",
       "    </tr>\n",
       "    <tr>\n",
       "      <th>10xx</th>\n",
       "      <td>0.651276</td>\n",
       "      <td>-0.696970</td>\n",
       "      <td>0.413434</td>\n",
       "      <td>0.727273</td>\n",
       "      <td>0.414549</td>\n",
       "      <td>0.677003</td>\n",
       "      <td>0.677868</td>\n",
       "      <td>0.727273</td>\n",
       "    </tr>\n",
       "    <tr>\n",
       "      <th>AVG</th>\n",
       "      <td>0.584740</td>\n",
       "      <td>-0.638701</td>\n",
       "      <td>0.333029</td>\n",
       "      <td>0.547504</td>\n",
       "      <td>0.339888</td>\n",
       "      <td>0.637832</td>\n",
       "      <td>0.653774</td>\n",
       "      <td>0.672995</td>\n",
       "    </tr>\n",
       "  </tbody>\n",
       "</table>\n",
       "</div>"
      ],
      "text/plain": [
       "       R2_ahat  Ktau_ahat   R2_dist  Ktau_dist  R2_sharp  Ktau_sharp  R2_svd20  Ktau_svd20\n",
       "2xx   0.687669  -0.736264  0.223328   0.490196  0.338802    0.747545  0.952320    0.830065\n",
       "6xx   0.360751  -0.254902  0.207855   0.372549  0.219417    0.393445  0.270542    0.267974\n",
       "9xx   0.639264  -0.866667  0.487498   0.600000  0.386782    0.733333  0.714368    0.866667\n",
       "10xx  0.651276  -0.696970  0.413434   0.727273  0.414549    0.677003  0.677868    0.727273\n",
       "AVG   0.584740  -0.638701  0.333029   0.547504  0.339888    0.637832  0.653774    0.672995"
      ]
     },
     "execution_count": 159,
     "metadata": {},
     "output_type": "execute_result"
    }
   ],
   "source": [
    "dist_task2_df = W_distance_task2_df[['R2','Ktau']]\n",
    "sharp_task2_df = sharpness_task2_df[['R2','Ktau']]\n",
    "svd20_task2_df = svd20_task2_df[['R2','Ktau']]\n",
    "\n",
    "\n",
    "task2_df = sharp_task2_df.join(svd20_task2_df,  lsuffix='_sharp', rsuffix='_svd20')\n",
    "task2_df = dist_task2_df.join(task2_df)\n",
    "task2_df = ahat_task2_sdf.join(task2_df, lsuffix='_ahat', rsuffix='_dist')\n",
    "task2_df\n",
    "\n",
    "task2_mean = task2_df.describe().loc['mean'].to_frame().rename(columns={'mean':'AVG'}).transpose()\n",
    "task2_df = pd.concat([task2_df,task2_mean])\n",
    "task2_df"
   ]
  },
  {
   "cell_type": "code",
   "execution_count": 163,
   "metadata": {},
   "outputs": [
    {
     "name": "stdout",
     "output_type": "stream",
     "text": [
      "\n",
      "Task2 - 2xx  & 0.69 & -0.74 & 0.22 & 0.49 & 0.34 & 0.75 & 0.95 & 0.83 \\\\\n",
      "Task2 - 6xx  & 0.36 & -0.25 & 0.21 & 0.37 & 0.22 & 0.39 & 0.27 & 0.27 \\\\\n",
      "Task2 - 9xx  & 0.64 & -0.87 & 0.49 & 0.60 & 0.39 & 0.73 & 0.71 & 0.87 \\\\\n",
      "Task2 - 10xx & 0.65 & -0.70 & 0.41 & 0.73 & 0.41 & 0.68 & 0.68 & 0.73 \\\\\n",
      "Task2 - AVG  & 0.58 & -0.64 & 0.33 & 0.55 & 0.34 & 0.64 & 0.65 & 0.67 \\\\\n"
     ]
    }
   ],
   "source": [
    "task2_str = task2_df.to_latex(header=False, float_format=\"{:0.2f}\".format)\n",
    "task2_str = task2_str.split('\\n',2)[-1].rsplit(\"\\n\", 3)[0]\n",
    "\n",
    "task2_str = re.sub(\"\\n\", \"\\nTask2 - \", task2_str)\n",
    "task2_str = re.sub(\"^\", \"\\nTask2 - \", task2_str)\n",
    "print(task2_str)"
   ]
  },
  {
   "cell_type": "code",
   "execution_count": 170,
   "metadata": {},
   "outputs": [],
   "source": [
    "metrics = ['ahat','W_distance', 'sharpness', 'svd20']\n",
    "measures = ['R2', 'Ktau']\n",
    "tasks = ['\\TASKONE', '\\TASKTWO']\n",
    "\n",
    "HEADER = \"\"\"\n",
    "\\\\begin{tabular}{|p{1.05in}|c|c|c|c|c|c|c|c|c|c|}\n",
    "\\hline\n",
    "& \\multicolumn{2}{|c|}{ \\ALPHAHAT      } \n",
    "& \\multicolumn{2}{|c|}{ \\DISTANCEFROMINIT     } \n",
    "& \\multicolumn{2}{|c|}{ \\SHARPNESS             } \n",
    "& \\multicolumn{2}{|c|}{ \\SVDSMOOTHING } \n",
    "\\\\\\\\\n",
    "\\hline\n",
    "               &  $R^2$ & Kendal-$\\\\tau$ &  $R^2$ & Kendal-$\\\\tau$ &  $R^2$ & Kendal-$\\\\tau$ &  $R^2$ & Kendal-$\\\\tau$  \\\\\\\\\n",
    "\"\"\"\n",
    "    \n",
    "with open('./table5.tex', 'w') as f:\n",
    "    f.write(HEADER)\n",
    "    f.write(\"\\\\hline\\n\")\n",
    "    f.write(task1_str+'\\n')\n",
    "    f.write(\"\\hline\\hline\\n\")\n",
    "    f.write(task2_str+'\\n')\n",
    "    f.write(\"\\hline\\n\")\n",
    "    f.write(\"\\end{tabular}\\n\")"
   ]
  },
  {
   "cell_type": "code",
   "execution_count": 171,
   "metadata": {},
   "outputs": [],
   "source": [
    "!cp table5.tex ../paper/"
   ]
  },
  {
   "cell_type": "code",
   "execution_count": 172,
   "metadata": {},
   "outputs": [
    {
     "name": "stdout",
     "output_type": "stream",
     "text": [
      "\r\n",
      "\\begin{tabular}{|p{1.05in}|c|c|c|c|c|c|c|c|c|c|}\r\n",
      "\\hline\r\n",
      "& \\multicolumn{2}{|c|}{ \\ALPHAHAT      } \r\n",
      "& \\multicolumn{2}{|c|}{ \\DISTANCEFROMINIT     } \r\n",
      "& \\multicolumn{2}{|c|}{ \\SHARPNESS             } \r\n",
      "& \\multicolumn{2}{|c|}{ \\SVDSMOOTHING } \r\n",
      "\\\\\r\n",
      "\\hline\r\n",
      "               &  $R^2$ & Kendal-$\\tau$ &  $R^2$ & Kendal-$\\tau$ &  $R^2$ & Kendal-$\\tau$ &  $R^2$ & Kendal-$\\tau$  \\\\\r\n",
      "\\hline\r\n",
      "\r\n",
      "Task1 - 0xx & 0.55 & -0.55 & 0.47 & 0.74 & 0.26 & 0.72 & 0.53 & 0.61 \\\\\r\n",
      "Task1 - 1xx & 0.88 & -0.48 & 0.58 & 0.85 & 0.43 & 0.82 & 0.75 & 0.79 \\\\\r\n",
      "Task1 - 2xx & 0.69 & -0.52 & 0.32 & 0.61 & 0.30 & 0.48 & 0.84 & 0.76 \\\\\r\n",
      "Task1 - 5xx & 0.09 & -0.10 & 0.60 & 0.77 & 0.63 & 0.76 & 0.38 & 0.43 \\\\\r\n",
      "Task1 - 6xx & 0.61 & -0.37 & 0.52 & 0.73 & 0.59 & 0.76 & 0.40 & 0.45 \\\\\r\n",
      "Task1 - 7xx & 0.45 & -0.51 & 0.28 & 0.61 & 0.54 & 0.64 & 0.67 & 0.67 \\\\\r\n",
      "Task1 - AVG & 0.55 & -0.42 & 0.46 & 0.72 & 0.46 & 0.70 & 0.60 & 0.62 \\\\\r\n",
      "\\hline\\hline\r\n",
      "\r\n",
      "Task2 - 2xx  & 0.69 & -0.74 & 0.22 & 0.49 & 0.34 & 0.75 & 0.95 & 0.83 \\\\\r\n",
      "Task2 - 6xx  & 0.36 & -0.25 & 0.21 & 0.37 & 0.22 & 0.39 & 0.27 & 0.27 \\\\\r\n",
      "Task2 - 9xx  & 0.64 & -0.87 & 0.49 & 0.60 & 0.39 & 0.73 & 0.71 & 0.87 \\\\\r\n",
      "Task2 - 10xx & 0.65 & -0.70 & 0.41 & 0.73 & 0.41 & 0.68 & 0.68 & 0.73 \\\\\r\n",
      "Task2 - AVG  & 0.58 & -0.64 & 0.33 & 0.55 & 0.34 & 0.64 & 0.65 & 0.67 \\\\\r\n",
      "\\hline\r\n",
      "\\end{tabular}\r\n"
     ]
    }
   ],
   "source": [
    "!cat table5.tex"
   ]
  },
  {
   "cell_type": "code",
   "execution_count": null,
   "metadata": {},
   "outputs": [],
   "source": []
  },
  {
   "cell_type": "code",
   "execution_count": null,
   "metadata": {},
   "outputs": [],
   "source": []
  },
  {
   "cell_type": "code",
   "execution_count": null,
   "metadata": {},
   "outputs": [],
   "source": []
  }
 ],
 "metadata": {
  "celltoolbar": "Tags",
  "kernelspec": {
   "display_name": "Python 3",
   "language": "python",
   "name": "python3"
  },
  "language_info": {
   "codemirror_mode": {
    "name": "ipython",
    "version": 3
   },
   "file_extension": ".py",
   "mimetype": "text/x-python",
   "name": "python",
   "nbconvert_exporter": "python",
   "pygments_lexer": "ipython3",
   "version": "3.8.5"
  }
 },
 "nbformat": 4,
 "nbformat_minor": 4
}
